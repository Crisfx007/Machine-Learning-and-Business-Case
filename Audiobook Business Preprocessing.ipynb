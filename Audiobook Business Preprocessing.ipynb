{
 "cells": [
  {
   "cell_type": "code",
   "execution_count": 1,
   "id": "6ed150ab-1813-4ed8-8d1e-964888b0cc4d",
   "metadata": {},
   "outputs": [],
   "source": [
    "import numpy as np\n",
    "from sklearn import preprocessing"
   ]
  },
  {
   "cell_type": "code",
   "execution_count": 3,
   "id": "9a6d269d-1aea-403a-9a09-6bc87b97a235",
   "metadata": {},
   "outputs": [],
   "source": [
    "raw_csv_data = np.loadtxt('Audiobooks_data.csv', delimiter = ',')\n",
    "\n",
    "unscaled_inputs_all = raw_csv_data[:,1:-1]\n",
    "targets_all = raw_csv_data[:,-1]"
   ]
  },
  {
   "cell_type": "markdown",
   "id": "7c7c3d2d-01a2-4889-98b9-02b9cc9d4f05",
   "metadata": {},
   "source": [
    "### Balancing the dataset"
   ]
  },
  {
   "cell_type": "code",
   "execution_count": 8,
   "id": "4ed331fb-4d3b-4c8a-9147-1e1313708a27",
   "metadata": {},
   "outputs": [],
   "source": [
    "num_one_targets = int(np.sum(targets_all))\n",
    "zero_targets_counter = 0\n",
    "indices_to_remove = []\n",
    "\n",
    "for i in range(targets_all.shape[0]):\n",
    "    if targets_all[i] == 0:\n",
    "        zero_targets_counter +=1\n",
    "        if zero_targets_counter > num_one_targets:\n",
    "            indices_to_remove.append(i)\n",
    "\n",
    "unscaled_inputs_equal_priors = np.delete(unscaled_inputs_all, indices_to_remove, axis =0)\n",
    "targets_equal_priors = np.delete(targets_all, indices_to_remove, axis =0)"
   ]
  },
  {
   "cell_type": "markdown",
   "id": "16c2b8af-b631-4697-8c2c-8f4a72f0383e",
   "metadata": {},
   "source": [
    "### Standardize the Inputs"
   ]
  },
  {
   "cell_type": "code",
   "execution_count": 11,
   "id": "7cc721f8-21d0-4cfe-99b3-bf7ab89c5900",
   "metadata": {},
   "outputs": [],
   "source": [
    "scaled_inputs = preprocessing.scale(unscaled_inputs_equal_priors)"
   ]
  },
  {
   "cell_type": "markdown",
   "id": "a0191d33-ee3f-48fc-8a6e-390235e3e80c",
   "metadata": {},
   "source": [
    "### Shuffle the data"
   ]
  },
  {
   "cell_type": "code",
   "execution_count": 14,
   "id": "ceebd90d-4341-4f98-9cd3-ade3308699f6",
   "metadata": {},
   "outputs": [],
   "source": [
    "shuffled_indices = np.arange(scaled_inputs.shape[0])\n",
    "np.random.shuffle(shuffled_indices)\n",
    "\n",
    "shuffled_inputs = scaled_inputs[shuffled_indices]\n",
    "shuffled_targets = targets_equal_priors[shuffled_indices]"
   ]
  },
  {
   "cell_type": "markdown",
   "id": "26dcdae2-34a4-41a1-8bad-638bef0bea79",
   "metadata": {},
   "source": [
    "### Train, Test, Validation Datasets"
   ]
  },
  {
   "cell_type": "code",
   "execution_count": 17,
   "id": "824d023d-2b8f-4da0-b5ae-69a124e62f70",
   "metadata": {},
   "outputs": [
    {
     "name": "stdout",
     "output_type": "stream",
     "text": [
      "1779.0 3579 0.49706621961441744\n",
      "224.0 447 0.5011185682326622\n",
      "234.0 448 0.5223214285714286\n"
     ]
    }
   ],
   "source": [
    "samples_count = shuffled_inputs.shape[0]\n",
    "train_samples_count = int(0.8*samples_count)\n",
    "validation_samples_count = int(0.1*samples_count)\n",
    "test_samples_count = samples_count - train_samples_count - validation_samples_count\n",
    "\n",
    "train_inputs = shuffled_inputs[:train_samples_count]\n",
    "train_targets = shuffled_targets[:train_samples_count]\n",
    "\n",
    "validation_inputs = shuffled_inputs[train_samples_count:train_samples_count+ validation_samples_count]\n",
    "validation_targets = shuffled_targets[train_samples_count:train_samples_count+ validation_samples_count]\n",
    "\n",
    "test_inputs = shuffled_inputs[train_samples_count+ validation_samples_count:]\n",
    "test_targets  = shuffled_targets[train_samples_count+ validation_samples_count:]\n",
    "\n",
    "\n",
    "print(np.sum(train_targets), train_samples_count, np.sum(train_targets)/train_samples_count)\n",
    "print(np.sum(validation_targets), validation_samples_count, np.sum(validation_targets)/validation_samples_count)\n",
    "print(np.sum(test_targets), test_samples_count, np.sum(test_targets)/test_samples_count)"
   ]
  },
  {
   "cell_type": "code",
   "execution_count": 19,
   "id": "82a2a81e-4762-4980-b8f3-1e13152115dc",
   "metadata": {},
   "outputs": [],
   "source": [
    "np.savez('Audiobooks_data_train', inputs= train_inputs, targets = train_targets)\n",
    "np.savez('Audiobooks_data_validation', inputs= validation_inputs, targets = validation_targets)\n",
    "np.savez('Audiobooks_data_test', inputs= test_inputs, targets = test_targets)"
   ]
  },
  {
   "cell_type": "code",
   "execution_count": null,
   "id": "86be67dc-b98a-4458-9831-187ad48ceb9e",
   "metadata": {},
   "outputs": [],
   "source": []
  }
 ],
 "metadata": {
  "kernelspec": {
   "display_name": "Python (tensorflow_env)",
   "language": "python",
   "name": "tensorflow_env"
  },
  "language_info": {
   "codemirror_mode": {
    "name": "ipython",
    "version": 3
   },
   "file_extension": ".py",
   "mimetype": "text/x-python",
   "name": "python",
   "nbconvert_exporter": "python",
   "pygments_lexer": "ipython3",
   "version": "3.8.19"
  }
 },
 "nbformat": 4,
 "nbformat_minor": 5
}
