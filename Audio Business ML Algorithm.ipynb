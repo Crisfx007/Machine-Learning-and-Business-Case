{
 "cells": [
  {
   "cell_type": "code",
   "execution_count": 1,
   "id": "c36a49cf-29ca-4e77-9778-9a2d5bc1d3ae",
   "metadata": {},
   "outputs": [],
   "source": [
    "import numpy as np\n",
    "import tensorflow as tf"
   ]
  },
  {
   "cell_type": "code",
   "execution_count": 2,
   "id": "3a2bbf7c-3300-4151-a70b-165389d49679",
   "metadata": {},
   "outputs": [],
   "source": [
    "npz = np.load('Audiobooks_data_train.npz')\n",
    "\n",
    "train_inputs = npz['inputs'].astype(float)\n",
    "train_targets = npz['targets'].astype(int)\n",
    "\n",
    "npz = np.load('Audiobooks_data_validation.npz')\n",
    "\n",
    "validation_inputs = npz['inputs'].astype(float)\n",
    "validation_targets = npz['targets'].astype(int)\n",
    "\n",
    "npz = np.load('Audiobooks_data_test.npz')\n",
    "\n",
    "test_inputs = npz['inputs'].astype(float)\n",
    "test_targets = npz['targets'].astype(int)"
   ]
  },
  {
   "cell_type": "code",
   "execution_count": 8,
   "id": "3eb784f8-5db0-47a2-922e-f51b6c33f595",
   "metadata": {},
   "outputs": [
    {
     "name": "stdout",
     "output_type": "stream",
     "text": [
      "Epoch 1/100\n",
      "36/36 - 1s - loss: 0.6259 - accuracy: 0.6426 - val_loss: 0.5143 - val_accuracy: 0.7584 - 1s/epoch - 39ms/step\n",
      "Epoch 2/100\n",
      "36/36 - 0s - loss: 0.4733 - accuracy: 0.7653 - val_loss: 0.4427 - val_accuracy: 0.8009 - 143ms/epoch - 4ms/step\n",
      "Epoch 3/100\n",
      "36/36 - 0s - loss: 0.4187 - accuracy: 0.7776 - val_loss: 0.4115 - val_accuracy: 0.8031 - 130ms/epoch - 4ms/step\n",
      "Epoch 4/100\n",
      "36/36 - 0s - loss: 0.3920 - accuracy: 0.7890 - val_loss: 0.3784 - val_accuracy: 0.8255 - 128ms/epoch - 4ms/step\n",
      "Epoch 5/100\n",
      "36/36 - 0s - loss: 0.3739 - accuracy: 0.7997 - val_loss: 0.3719 - val_accuracy: 0.8367 - 141ms/epoch - 4ms/step\n",
      "Epoch 6/100\n",
      "36/36 - 0s - loss: 0.3636 - accuracy: 0.8061 - val_loss: 0.3620 - val_accuracy: 0.8210 - 135ms/epoch - 4ms/step\n",
      "Epoch 7/100\n",
      "36/36 - 0s - loss: 0.3567 - accuracy: 0.8053 - val_loss: 0.3590 - val_accuracy: 0.8300 - 131ms/epoch - 4ms/step\n",
      "Epoch 8/100\n",
      "36/36 - 0s - loss: 0.3519 - accuracy: 0.8044 - val_loss: 0.3415 - val_accuracy: 0.8367 - 143ms/epoch - 4ms/step\n",
      "Epoch 9/100\n",
      "36/36 - 0s - loss: 0.3456 - accuracy: 0.8094 - val_loss: 0.3417 - val_accuracy: 0.8412 - 147ms/epoch - 4ms/step\n",
      "Epoch 10/100\n",
      "36/36 - 0s - loss: 0.3404 - accuracy: 0.8128 - val_loss: 0.3309 - val_accuracy: 0.8456 - 186ms/epoch - 5ms/step\n",
      "Epoch 11/100\n",
      "36/36 - 0s - loss: 0.3387 - accuracy: 0.8139 - val_loss: 0.3378 - val_accuracy: 0.8412 - 206ms/epoch - 6ms/step\n",
      "Epoch 12/100\n",
      "36/36 - 0s - loss: 0.3385 - accuracy: 0.8189 - val_loss: 0.3301 - val_accuracy: 0.8501 - 170ms/epoch - 5ms/step\n",
      "Epoch 13/100\n",
      "36/36 - 0s - loss: 0.3336 - accuracy: 0.8189 - val_loss: 0.3328 - val_accuracy: 0.8434 - 335ms/epoch - 9ms/step\n",
      "Epoch 14/100\n",
      "36/36 - 0s - loss: 0.3316 - accuracy: 0.8173 - val_loss: 0.3284 - val_accuracy: 0.8456 - 136ms/epoch - 4ms/step\n",
      "Epoch 15/100\n",
      "36/36 - 0s - loss: 0.3304 - accuracy: 0.8245 - val_loss: 0.3232 - val_accuracy: 0.8434 - 133ms/epoch - 4ms/step\n",
      "Epoch 16/100\n",
      "36/36 - 0s - loss: 0.3310 - accuracy: 0.8150 - val_loss: 0.3368 - val_accuracy: 0.8434 - 134ms/epoch - 4ms/step\n",
      "Epoch 17/100\n",
      "36/36 - 0s - loss: 0.3305 - accuracy: 0.8184 - val_loss: 0.3213 - val_accuracy: 0.8434 - 129ms/epoch - 4ms/step\n",
      "Epoch 18/100\n",
      "36/36 - 0s - loss: 0.3298 - accuracy: 0.8145 - val_loss: 0.3254 - val_accuracy: 0.8412 - 123ms/epoch - 3ms/step\n",
      "Epoch 19/100\n",
      "36/36 - 0s - loss: 0.3276 - accuracy: 0.8175 - val_loss: 0.3275 - val_accuracy: 0.8456 - 125ms/epoch - 3ms/step\n"
     ]
    },
    {
     "data": {
      "text/plain": [
       "<keras.src.callbacks.History at 0x218d0d82c10>"
      ]
     },
     "execution_count": 8,
     "metadata": {},
     "output_type": "execute_result"
    }
   ],
   "source": [
    "input_size = 10\n",
    "output_size = 2\n",
    "hidden_layer_size = 50\n",
    "\n",
    "model = tf.keras.Sequential ([\n",
    "                        tf.keras.layers.Dense(hidden_layer_size, activation = 'relu'),\n",
    "                        tf.keras.layers.Dense(hidden_layer_size, activation = 'relu'),\n",
    "                        tf.keras.layers.Dense(output_size, activation= 'softmax')\n",
    "                            ])\n",
    "\n",
    "model.compile(optimizer = 'adam', loss ='sparse_categorical_crossentropy', metrics=['accuracy'])\n",
    "\n",
    "\n",
    "batch_size = 100\n",
    "max_epochs = 100\n",
    "early_stopping = tf.keras.callbacks.EarlyStopping(patience=2)\n",
    "\n",
    "model.fit(train_inputs, train_targets, batch_size = batch_size, epochs = max_epochs,\n",
    "          callbacks = [early_stopping],\n",
    "          validation_data = (validation_inputs, validation_targets), verbose=2)"
   ]
  },
  {
   "cell_type": "markdown",
   "id": "63a4e9bf-4636-4527-9513-a8f170cca0b6",
   "metadata": {},
   "source": [
    "### Testing the accuracy"
   ]
  },
  {
   "cell_type": "code",
   "execution_count": 11,
   "id": "892b1826-133d-4159-b185-0bb3148fee1c",
   "metadata": {},
   "outputs": [
    {
     "name": "stdout",
     "output_type": "stream",
     "text": [
      "14/14 [==============================] - 0s 3ms/step - loss: 0.3443 - accuracy: 0.8080\n"
     ]
    }
   ],
   "source": [
    "test_loss, test_accuracy = model.evaluate(test_inputs, test_targets)"
   ]
  },
  {
   "cell_type": "code",
   "execution_count": 13,
   "id": "800fd472-0a4c-4dd0-a36a-196d28d73f75",
   "metadata": {},
   "outputs": [
    {
     "name": "stdout",
     "output_type": "stream",
     "text": [
      "Test loss: 0.34. Test accuracy: 80.80%\n"
     ]
    }
   ],
   "source": [
    "print('Test loss: {0:.2f}. Test accuracy: {1:.2f}%'.format(test_loss,test_accuracy*100.))"
   ]
  },
  {
   "cell_type": "code",
   "execution_count": null,
   "id": "4497265c-5323-4039-8bfb-826c12ddc8a2",
   "metadata": {},
   "outputs": [],
   "source": []
  }
 ],
 "metadata": {
  "kernelspec": {
   "display_name": "Python (tensorflow_env)",
   "language": "python",
   "name": "tensorflow_env"
  },
  "language_info": {
   "codemirror_mode": {
    "name": "ipython",
    "version": 3
   },
   "file_extension": ".py",
   "mimetype": "text/x-python",
   "name": "python",
   "nbconvert_exporter": "python",
   "pygments_lexer": "ipython3",
   "version": "3.8.19"
  }
 },
 "nbformat": 4,
 "nbformat_minor": 5
}
